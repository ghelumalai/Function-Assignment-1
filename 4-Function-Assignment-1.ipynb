{
 "cells": [
  {
   "cell_type": "code",
   "execution_count": 34,
   "id": "45e44d6e",
   "metadata": {},
   "outputs": [],
   "source": [
    "def SubfieldsInAI():\n",
    "    lists=[\"Machine Learning\",\"Neural Networks\",\"Vision\",\"Robotics\",\"Speech Processing\",\"Natural Language Processing\"]\n",
    "    print(\"Sub-fields in AI are: \")\n",
    "    for subfi in lists:\n",
    "        print(subfi)\n",
    "    return subfi"
   ]
  },
  {
   "cell_type": "code",
   "execution_count": 35,
   "id": "e4e59cd6",
   "metadata": {},
   "outputs": [
    {
     "name": "stdout",
     "output_type": "stream",
     "text": [
      "Sub-fields in AI are: \n",
      "Machine Learning\n",
      "Neural Networks\n",
      "Vision\n",
      "Robotics\n",
      "Speech Processing\n",
      "Natural Language Processing\n"
     ]
    }
   ],
   "source": [
    "subfields=SubfieldsInAI()"
   ]
  },
  {
   "cell_type": "code",
   "execution_count": 36,
   "id": "9a0b4ab4",
   "metadata": {},
   "outputs": [],
   "source": [
    "def odd_even():\n",
    "    num1=int(input(\"Enter a Number: \"))\n",
    "    if(num1%2==0):\n",
    "        print(num1,\"is Even Number\")\n",
    "    else:\n",
    "        print(num1,\"is Odd Number\")\n",
    "    return num1 "
   ]
  },
  {
   "cell_type": "code",
   "execution_count": 37,
   "id": "73e7a48b",
   "metadata": {},
   "outputs": [
    {
     "name": "stdout",
     "output_type": "stream",
     "text": [
      "Enter a Number: 52452\n",
      "52452 is Even Number\n"
     ]
    }
   ],
   "source": [
    "oddeven=odd_even()"
   ]
  },
  {
   "cell_type": "code",
   "execution_count": 87,
   "id": "0cba7b9d",
   "metadata": {},
   "outputs": [],
   "source": [
    "def marriageEligibility1():\n",
    "    gender=input(\"Your Gender: \").lower()\n",
    "    age=int(input(\"Your Age: \"))\n",
    "    if (gender in (\"male\",\"m\")):\n",
    "        if(age<21):\n",
    "            print(\"Not Eligible\")\n",
    "        else:\n",
    "            print(\"Eligible\")\n",
    "    if (gender in (\"female\",\"f\")):\n",
    "        if(age<18):\n",
    "            print(\"Not Eligible\")\n",
    "        else:\n",
    "            print(\"Eligible\")\n",
    "    return age   "
   ]
  },
  {
   "cell_type": "code",
   "execution_count": 93,
   "id": "db4b0f78",
   "metadata": {},
   "outputs": [
    {
     "name": "stdout",
     "output_type": "stream",
     "text": [
      "Your Gender: Male\n",
      "Your Age: 20\n",
      "Not Eligible\n"
     ]
    }
   ],
   "source": [
    "ageEligible1=marriageEligibility1()"
   ]
  },
  {
   "cell_type": "code",
   "execution_count": 108,
   "id": "a3c2afb7",
   "metadata": {},
   "outputs": [],
   "source": [
    "def mark_per():\n",
    "    sub1=int(input(\"Subject1= \"))\n",
    "    sub2=int(input(\"Subject2= \"))\n",
    "    sub3=int(input(\"Subject3= \"))\n",
    "    sub4=int(input(\"Subject4= \"))\n",
    "    sub5=int(input(\"Subject5= \"))\n",
    "    total=sub1+sub2+sub3+sub4+sub5\n",
    "    per=(total/500)*100\n",
    "    print(\"Total : \",total)\n",
    "    print(\"Percentage : \", per)\n",
    "    return total"
   ]
  },
  {
   "cell_type": "code",
   "execution_count": 112,
   "id": "11f31c06",
   "metadata": {},
   "outputs": [
    {
     "name": "stdout",
     "output_type": "stream",
     "text": [
      "Subject1= 98\n",
      "Subject2= 87\n",
      "Subject3= 95\n",
      "Subject4= 95\n",
      "Subject5= 93\n",
      "Total :  468\n",
      "Percentage :  93.60000000000001\n"
     ]
    }
   ],
   "source": [
    "stu_mark=mark_per()"
   ]
  },
  {
   "cell_type": "code",
   "execution_count": 17,
   "id": "b73e921c",
   "metadata": {},
   "outputs": [],
   "source": [
    "def triangleAB():\n",
    "    h1=float(input(\"Height1: \"))\n",
    "    h2=float(input(\"Height2: \"))\n",
    "    br=float(input(\"Breadth: \"))\n",
    "    area=(h1*br)/2\n",
    "    print(\"Area of Triangle: \",area)\n",
    "    perimeter=h1+h2+br\n",
    "    print(\"Perimeter of Triangle: \",perimeter)\n",
    "    return area"
   ]
  },
  {
   "cell_type": "code",
   "execution_count": 18,
   "id": "2dd62916",
   "metadata": {},
   "outputs": [
    {
     "name": "stdout",
     "output_type": "stream",
     "text": [
      "Height1: 32\n",
      "Height2: 28\n",
      "Breadth: 34\n",
      "Area of Triangle:  544.0\n",
      "Perimeter of Triangle:  94.0\n"
     ]
    }
   ],
   "source": [
    "area1=triangleAB()"
   ]
  }
 ],
 "metadata": {
  "kernelspec": {
   "display_name": "Python 3 (ipykernel)",
   "language": "python",
   "name": "python3"
  },
  "language_info": {
   "codemirror_mode": {
    "name": "ipython",
    "version": 3
   },
   "file_extension": ".py",
   "mimetype": "text/x-python",
   "name": "python",
   "nbconvert_exporter": "python",
   "pygments_lexer": "ipython3",
   "version": "3.11.5"
  }
 },
 "nbformat": 4,
 "nbformat_minor": 5
}
